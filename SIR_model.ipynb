{
 "cells": [
  {
   "cell_type": "markdown",
   "metadata": {},
   "source": [
    "# SIR Model"
   ]
  },
  {
   "cell_type": "code",
   "execution_count": 5,
   "metadata": {
    "collapsed": false
   },
   "outputs": [],
   "source": [
    "%matplotlib inline\n",
    "\n",
    "import numpy as np\n",
    "import matplotlib.pyplot as plt\n",
    "from scipy.integrate import odeint\n",
    "plt.ion()\n",
    "plt.rcParams['figure.figsize'] = 10, 8\n"
   ]
  },
  {
   "cell_type": "markdown",
   "metadata": {},
   "source": [
    "This script will produce a graph that shows the change in the populations of the \"susceptible\" and \"infected\" groups.\n",
    "\n",
    "It has 4 sections:\n",
    "- Parameter Values\n",
    "    - we can change the values in this section to reflect our own equations\n",
    "- Equations\n",
    "    - this is a function which translates our equations so the computer can calculate the solution for us. \n",
    "    - we need to tell it what our equations are by changing the lines that are highlighted in the code.\n",
    "- Initial Conditions\n",
    "    - again, these values can be changed by us to explore different model conditions\n",
    "- Plotting\n",
    "    - we don't need to change this part - all it does is draw a graph that shows our results."
   ]
  },
  {
   "cell_type": "markdown",
   "metadata": {},
   "source": [
    "## Parameter Values"
   ]
  },
  {
   "cell_type": "code",
   "execution_count": 6,
   "metadata": {
    "collapsed": true
   },
   "outputs": [],
   "source": [
    "mu = 1      \n",
    "\n",
    "beta = 0.0001  \n",
    "\n",
    "omega = 0.0095  \n",
    "\n",
    "gamma = 0.0001  \n",
    "\n"
   ]
  },
  {
   "cell_type": "markdown",
   "metadata": {},
   "source": [
    "## Equations"
   ]
  },
  {
   "cell_type": "code",
   "execution_count": 11,
   "metadata": {
    "collapsed": true
   },
   "outputs": [],
   "source": [
    "def f(y, t):\n",
    "    Si = y[0]\n",
    "    Ii = y[1]\n",
    "    Ri = y[2]\n",
    "    Ni = Si + Ii + Ri\n",
    "    # the model equations (we can change the three lines below to fit our equations)\n",
    "    f0 = (mu * Ni) - (beta * Si * Ii) - (mu * Si) + (omega * Ri)\n",
    "    f1 = (beta * Si * Ii) - (mu * Ii) - (gamma * Ii)\n",
    "    f2 = (gamma * Ii) - (mu * Ri) - (omega * Ri)\n",
    "    return [f0, f1, f2]"
   ]
  },
  {
   "cell_type": "markdown",
   "metadata": {},
   "source": [
    "## Initial Conditions"
   ]
  },
  {
   "cell_type": "code",
   "execution_count": 28,
   "metadata": {
    "collapsed": true
   },
   "outputs": [],
   "source": [
    "\n",
    "S0 = 500.              \n",
    "\n",
    "I0 = 100                \n",
    "\n",
    "R0 = 10                 \n",
    "\n",
    "\n",
    "y0 = [S0, I0, R0]     # initial condition vector\n",
    "\n",
    "t  = np.linspace(0, 5., 1000)         # time that simulation runs for (start, end, number of time points)"
   ]
  },
  {
   "cell_type": "code",
   "execution_count": 29,
   "metadata": {
    "collapsed": true
   },
   "outputs": [],
   "source": [
    "##Plotting"
   ]
  },
  {
   "cell_type": "code",
   "execution_count": 30,
   "metadata": {
    "collapsed": false
   },
   "outputs": [
    {
     "data": {
      "text/plain": [
       "<matplotlib.legend.Legend at 0x115990438>"
      ]
     },
     "execution_count": 30,
     "metadata": {},
     "output_type": "execute_result"
    },
    {
     "data": {
      "image/png": "[encoded data removed]",
      "text/plain": [
       "<matplotlib.figure.Figure at 0x1156e67b8>"
      ]
     },
     "metadata": {},
     "output_type": "display_data"
    }
   ],
   "source": [
    "# solve the DEs\n",
    "soln = odeint(f, y0, t)\n",
    "S = soln[:, 0]\n",
    "I = soln[:, 1]\n",
    "R = soln[:, 2]\n",
    "\n",
    "# plot results\n",
    "plt.figure()\n",
    "plt.plot(t, S, label='Susceptible')\n",
    "plt.plot(t, I, label='Infected')\n",
    "plt.plot(t, R, label='Recovered')\n",
    "plt.xlabel('Days from outbreak')\n",
    "plt.ylabel('Population')\n",
    "plt.legend(loc=0)"
   ]
  },
  {
   "cell_type": "code",
   "execution_count": null,
   "metadata": {},
   "outputs": [],
   "source": []
  }
 ],
 "metadata": {
  "kernelspec": {
   "display_name": "Python 3",
   "language": "python",
   "name": "python3"
  },
  "language_info": {
   "codemirror_mode": {
    "name": "ipython",
    "version": 3
   },
   "file_extension": ".py",
   "mimetype": "text/x-python",
   "name": "python",
   "nbconvert_exporter": "python",
   "pygments_lexer": "ipython3",
   "version": "3.5.5"
  }
 },
 "nbformat": 4,
 "nbformat_minor": 2
}
