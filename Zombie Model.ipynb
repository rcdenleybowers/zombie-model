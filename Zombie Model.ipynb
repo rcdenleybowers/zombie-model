{
 "cells": [
  {
   "cell_type": "markdown",
   "metadata": {
    "collapsed": true
   },
   "source": [
    "# Zombie Model"
   ]
  },
  {
   "cell_type": "code",
   "execution_count": 17,
   "metadata": {
    "collapsed": false
   },
   "outputs": [],
   "source": [
    "%matplotlib inline\n",
    "# zombie apocalypse modeling\n",
    "import numpy as np\n",
    "import matplotlib.pyplot as plt\n",
    "from scipy.integrate import odeint\n",
    "plt.ion()\n",
    "plt.rcParams['figure.figsize'] = 10, 8\n"
   ]
  },
  {
   "cell_type": "markdown",
   "metadata": {},
   "source": [
    "This script will produce a graph that shows the change in the populations of the \"susceptible\" and \"zombie\" groups.\n",
    "\n",
    "It has 4 sections:\n",
    "- Parameter Values\n",
    "    - we can change the values in this section to reflect our own equations\n",
    "- Equations\n",
    "    - this is a function which translates our equations so the computer can calculate the solution for us. \n",
    "    - we need to tell it what our equations are by changing the lines that are highlighted in the code.\n",
    "- Initial Conditions\n",
    "    - again, these values can be changed by us to explore different model conditions\n",
    "- Plotting\n",
    "    - we don't need to change this part - all it does is draw a graph that shows our results."
   ]
  },
  {
   "cell_type": "markdown",
   "metadata": {},
   "source": [
    "## Parameter Values"
   ]
  },
  {
   "cell_type": "code",
   "execution_count": 18,
   "metadata": {
    "collapsed": true
   },
   "outputs": [],
   "source": [
    "P = 0      # birth rate\n",
    "\n",
    "d = 0.0001  # natural death percent (per day)\n",
    "\n",
    "B = 0.0095  # transmission percent  (per day)\n",
    "\n",
    "G = 0.0001  # resurect percent (per day)\n",
    "\n",
    "A = 0.0001  # destroy percent  (per day)"
   ]
  },
  {
   "cell_type": "code",
   "execution_count": 19,
   "metadata": {
    "collapsed": true
   },
   "outputs": [],
   "source": [
    "##Equations"
   ]
  },
  {
   "cell_type": "code",
   "execution_count": 20,
   "metadata": {
    "collapsed": true
   },
   "outputs": [],
   "source": [
    "def f(y, t):\n",
    "     Si = y[0]\n",
    "     Zi = y[1]\n",
    "     Ri = y[2]\n",
    "     # the model equations (we can change the three lines below to fit our equations)\n",
    "     f0 = P - B*Si*Zi - d*Si\n",
    "     f1 = B*Si*Zi + G*Ri - A*Si*Zi\n",
    "     f2 = d*Si + A*Si*Zi - G*Ri\n",
    "     return [f0, f1, f2]"
   ]
  },
  {
   "cell_type": "code",
   "execution_count": 21,
   "metadata": {
    "collapsed": true
   },
   "outputs": [],
   "source": [
    "##Initial Conditions"
   ]
  },
  {
   "cell_type": "code",
   "execution_count": 22,
   "metadata": {
    "collapsed": true
   },
   "outputs": [],
   "source": [
    "\n",
    "S0 = 500.              # initial population\n",
    "\n",
    "Z0 = 0                 # initial zombie population\n",
    "\n",
    "R0 = 0                 # initial death population\n",
    "\n",
    "y0 = [S0, Z0, R0]     # initial condition vector\n",
    "\n",
    "t  = np.linspace(0, 5., 1000)         # time that simulation runs for (start, end, number of time points)"
   ]
  },
  {
   "cell_type": "code",
   "execution_count": 23,
   "metadata": {
    "collapsed": true
   },
   "outputs": [],
   "source": [
    "##Plotting"
   ]
  },
  {
   "cell_type": "code",
   "execution_count": 24,
   "metadata": {
    "collapsed": false
   },
   "outputs": [
    {
     "data": {
      "text/plain": [
       "<matplotlib.legend.Legend at 0x11406a668>"
      ]
     },
     "execution_count": 24,
     "metadata": {},
     "output_type": "execute_result"
    },
    {
     "data": {
      "image/png": "[encoded data removed]",
      "text/plain": [
       "<matplotlib.figure.Figure at 0x1138e9780>"
      ]
     },
     "metadata": {},
     "output_type": "display_data"
    }
   ],
   "source": [
    "# solve the DEs\n",
    "soln = odeint(f, y0, t)\n",
    "S = soln[:, 0]\n",
    "Z = soln[:, 1]\n",
    "R = soln[:, 2]\n",
    "\n",
    "# plot results\n",
    "plt.figure()\n",
    "plt.plot(t, S, label='Living')\n",
    "plt.plot(t, Z, label='Zombies')\n",
    "plt.xlabel('Days from outbreak')\n",
    "plt.ylabel('Population')\n",
    "plt.title('Zombie Apocalypse - No Init. Dead Pop.; No New Births.')\n",
    "plt.legend(loc=0)"
   ]
  }
 ],
 "metadata": {
  "kernelspec": {
   "display_name": "Python 3",
   "language": "python",
   "name": "python3"
  },
  "language_info": {
   "codemirror_mode": {
    "name": "ipython",
    "version": 3
   },
   "file_extension": ".py",
   "mimetype": "text/x-python",
   "name": "python",
   "nbconvert_exporter": "python",
   "pygments_lexer": "ipython3",
   "version": "3.5.3"
  }
 },
 "nbformat": 4,
 "nbformat_minor": 0
}
